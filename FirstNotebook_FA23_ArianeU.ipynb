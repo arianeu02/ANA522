{
  "metadata": {
    "toc-showmarkdowntxt": false,
    "toc-autonumbering": true,
    "kernelspec": {
      "name": "python",
      "display_name": "Python (Pyodide)",
      "language": "python"
    },
    "language_info": {
      "codemirror_mode": {
        "name": "python",
        "version": 3
      },
      "file_extension": ".py",
      "mimetype": "text/x-python",
      "name": "python",
      "nbconvert_exporter": "python",
      "pygments_lexer": "ipython3",
      "version": "3.8"
    }
  },
  "nbformat_minor": 5,
  "nbformat": 4,
  "cells": [
    {
      "cell_type": "markdown",
      "source": "## Module 00 Fall 2023\n# First JupyterNotebook and Python Lab Experiment\n<span style=\"background-color:lightyellow\">Before clicking Run to execute cells, make sure \"<span style=\"color:red\">ANA522 (default)</span>\" Kernel is selected.</span>",
      "metadata": {},
      "id": "a4852c67"
    },
    {
      "cell_type": "markdown",
      "source": "# Say \"Hello World\"\nTo make a line of output from Python statement, \njust use print() command with the parenthesis to enclose the output sentence",
      "metadata": {},
      "id": "dde92961"
    },
    {
      "cell_type": "code",
      "source": "# output \"hello world!!!\"\n# the sting can be either single quotes or double quotes\nprint('Hello World !!!')\nprint(\"hello world too\")",
      "metadata": {
        "trusted": true
      },
      "execution_count": 1,
      "outputs": [
        {
          "name": "stdout",
          "text": "Hello World !!!\nhello world too\n",
          "output_type": "stream"
        }
      ],
      "id": "adcba709"
    },
    {
      "cell_type": "markdown",
      "source": "# Get user input interactively\nAsk user for input, and use the input for consequent computation.   \nUse input funtion to prompt the interaction, and save the input by initiating a veraible.",
      "metadata": {},
      "id": "c156cbcc"
    },
    {
      "cell_type": "code",
      "source": "# Say customized greeting with input of user name\nusername = input(\"Ariane\")\nprint(\"Hello \",username,\", Nice to meet you.\")",
      "metadata": {
        "trusted": true
      },
      "execution_count": 6,
      "outputs": [
        {
          "name": "stdout",
          "text": "Hello  <PyodideFuture pending cb=[WebLoop._decrement_in_progress()]> , Nice to meet you.\n",
          "output_type": "stream"
        }
      ],
      "id": "d7456b36"
    },
    {
      "cell_type": "markdown",
      "source": "# Forgot to bring a calculator, no problem.\n#### What is the total of  1234567 + 9876543 ? \n#### just type it as a line of statmente in a Code cell (like the one below), and [Run the selected cell].",
      "metadata": {},
      "id": "c3a33925-b32a-491a-a2ea-caeedf152ab9"
    },
    {
      "cell_type": "code",
      "source": "1234567 + 9876543",
      "metadata": {
        "trusted": true
      },
      "execution_count": 2,
      "outputs": [
        {
          "execution_count": 2,
          "output_type": "execute_result",
          "data": {
            "text/plain": "11111110"
          },
          "metadata": {}
        }
      ],
      "id": "16108d41-2b53-427c-9d05-f4e67c64b89e"
    },
    {
      "cell_type": "markdown",
      "source": "#### What is the subtraction of 1234567 from 9876543?",
      "metadata": {},
      "id": "ac25b4b3-8068-48c8-b489-30ffe77152f4"
    },
    {
      "cell_type": "code",
      "source": "9876543 - 1234567",
      "metadata": {
        "trusted": true
      },
      "execution_count": 3,
      "outputs": [
        {
          "execution_count": 3,
          "output_type": "execute_result",
          "data": {
            "text/plain": "8641976"
          },
          "metadata": {}
        }
      ],
      "id": "a4eb0c28-ef21-4c64-88b7-8854d27541b2"
    },
    {
      "cell_type": "markdown",
      "source": "#### How about the product of  1234567 x 9876543 ? \n#### Your turn to type it as a line of statmente in a Code cell below (it had been added for you in advance.)\n#### After typing, you have to [Run the selected cell] or press both Shift-Enter to run the cell and see the answer.\n>Hint: product operator is not using x in typing (see the error message), it is the asterisk (*)\n\n#### If there is any error in compilation, please fix it before turning it in. \n#### Coding statements cannot be compiled or executed will not be graded. ",
      "metadata": {},
      "id": "c9bd43d7-c623-42aa-b96f-f16d46beb6cc"
    },
    {
      "cell_type": "code",
      "source": "1234567 * 9876543",
      "metadata": {
        "trusted": true
      },
      "execution_count": 5,
      "outputs": [
        {
          "execution_count": 5,
          "output_type": "execute_result",
          "data": {
            "text/plain": "12193254061881"
          },
          "metadata": {}
        }
      ],
      "id": "eadcfc1b-a001-47d0-8a96-7faeac68610e"
    },
    {
      "cell_type": "markdown",
      "source": "# Explore more by creating new cells in the Notebook\nNow it's your turn to explore.\nPlease create a new cell here to print a different sentence as the output.    \n>Hint: Press + icon on the toolbar of the notebook (above) to [insert a cell below], and type your code statements in the new cell. ",
      "metadata": {},
      "id": "07442e62"
    },
    {
      "cell_type": "markdown",
      "source": "# Module00 First JupyterNotebook Submission\n1. Save this .ipynb file\n2. Download to your local computer for backup\n3. Use the backup file on your local computer to submit this First JupyterNotebook assignment through class Blackboard.",
      "metadata": {},
      "id": "e802c9c8"
    }
  ]
}